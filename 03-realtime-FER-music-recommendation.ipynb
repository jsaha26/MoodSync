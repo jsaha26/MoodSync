{
 "cells": [
  {
   "cell_type": "markdown",
   "id": "a82ca585",
   "metadata": {},
   "source": [
    "# Importing the necessary libraries"
   ]
  },
  {
   "cell_type": "code",
   "execution_count": 1,
   "id": "ffd31d6f",
   "metadata": {},
   "outputs": [],
   "source": [
    "import os\n",
    "import tensorflow as tf\n",
    "import cv2\n",
    "import matplotlib.pyplot as plt\n",
    "import numpy as np\n",
    "import tensorflow as tf\n",
    "from tensorflow import keras\n",
    "from tensorflow.keras import layers\n",
    "import pyttsx3\n",
    "import pyautogui\n",
    "import os\n",
    "import time\n",
    "import pandas as pd"
   ]
  },
  {
   "cell_type": "markdown",
   "id": "e3630575",
   "metadata": {},
   "source": [
    "# Loading the saved model"
   ]
  },
  {
   "cell_type": "code",
   "execution_count": 2,
   "id": "5bedc25a",
   "metadata": {},
   "outputs": [],
   "source": [
    "new_model = tf.keras.models.load_model('fer_model_25epochs.keras')"
   ]
  },
  {
   "cell_type": "markdown",
   "id": "19a6c72a",
   "metadata": {},
   "source": [
    "# REALTIME VIDEO DEMO"
   ]
  },
  {
   "cell_type": "code",
   "execution_count": 3,
   "id": "1653f6cb",
   "metadata": {},
   "outputs": [],
   "source": [
    "import cv2\n",
    "path = 'haarcascade_frontalface_default.xml'\n",
    "font = cv2.FONT_HERSHEY_TRIPLEX\n",
    "font_scale = 2\n",
    "font_thickness = 2\n",
    "font_colour = (0, 0, 225)"
   ]
  },
  {
   "cell_type": "code",
   "execution_count": 4,
   "id": "4d101727",
   "metadata": {},
   "outputs": [],
   "source": [
    "def display_text(emotion):\n",
    "    # Rectangular bounding box for the face\n",
    "    cv2.rectangle(frame, (x, y), (x+w, y+h), (0, 0, 255))\n",
    "    # Adding text\n",
    "    cv2.putText(frame, emotion, (x, y-10), font, font_scale, font_colour, font_thickness, cv2.LINE_4)"
   ]
  },
  {
   "cell_type": "code",
   "execution_count": 17,
   "id": "e25b6255",
   "metadata": {},
   "outputs": [
    {
     "name": "stdout",
     "output_type": "stream",
     "text": [
      "1/1 [==============================] - 0s 123ms/step\n",
      "1/1 [==============================] - 0s 111ms/step\n",
      "1/1 [==============================] - 0s 93ms/step\n",
      "1/1 [==============================] - 0s 98ms/step\n",
      "1/1 [==============================] - 0s 94ms/step\n",
      "1/1 [==============================] - 0s 81ms/step\n",
      "1/1 [==============================] - 0s 104ms/step\n",
      "1/1 [==============================] - 0s 85ms/step\n",
      "1/1 [==============================] - 0s 88ms/step\n",
      "1/1 [==============================] - 0s 85ms/step\n",
      "1/1 [==============================] - 0s 89ms/step\n",
      "1/1 [==============================] - 0s 89ms/step\n",
      "1/1 [==============================] - 0s 77ms/step\n",
      "1/1 [==============================] - 0s 89ms/step\n",
      "1/1 [==============================] - 0s 88ms/step\n",
      "1/1 [==============================] - 0s 88ms/step\n",
      "1/1 [==============================] - 0s 90ms/step\n",
      "1/1 [==============================] - 0s 89ms/step\n",
      "1/1 [==============================] - 0s 99ms/step\n",
      "1/1 [==============================] - 0s 94ms/step\n",
      "1/1 [==============================] - 0s 82ms/step\n",
      "1/1 [==============================] - 0s 82ms/step\n",
      "1/1 [==============================] - 0s 88ms/step\n",
      "1/1 [==============================] - 0s 79ms/step\n",
      "1/1 [==============================] - 0s 88ms/step\n",
      "Face not detected!\n",
      "1/1 [==============================] - 0s 89ms/step\n",
      "1/1 [==============================] - 0s 80ms/step\n",
      "1/1 [==============================] - 0s 93ms/step\n",
      "1/1 [==============================] - 0s 88ms/step\n",
      "1/1 [==============================] - 0s 86ms/step\n",
      "1/1 [==============================] - 0s 88ms/step\n",
      "1/1 [==============================] - 0s 89ms/step\n",
      "1/1 [==============================] - 0s 91ms/step\n"
     ]
    }
   ],
   "source": [
    "cap = cv2.VideoCapture(1)\n",
    "\n",
    "# Checking if the webcam is opening\n",
    "if not cap.isOpened():\n",
    "    cap = cv2.VideoCapture(0)\n",
    "if not cap.isOpened():\n",
    "    raise IOError('Canot open webcam!')\n",
    "\n",
    "while True:\n",
    "    \n",
    "    ret, frame = cap.read()\n",
    "    faceCascade = cv2.CascadeClassifier(cv2.data.haarcascades + 'haarcascade_frontalface_default.xml')\n",
    "    gray = cv2.cvtColor(frame, cv2.COLOR_BGR2GRAY)\n",
    "    faces = faceCascade.detectMultiScale(gray, 1.1, 4)\n",
    "    \n",
    "    for x, y, w, h in faces:\n",
    "    \n",
    "        roi_gray = gray[y:y+h, x:x+w]\n",
    "        roi_color = frame[y:y+h, x:x+w]\n",
    "        cv2.rectangle(frame, (x,y), (x+w, y+h), (255, 0, 0), 2)\n",
    "\n",
    "        facess = faceCascade.detectMultiScale(roi_gray)\n",
    "\n",
    "        if len(facess) == 0:\n",
    "            print('Face not detected!')\n",
    "        else:\n",
    "            for (ex, ey, ew, eh) in facess:\n",
    "                # cropped image of face\n",
    "                face_roi = roi_color[ey: ey+eh, ex:ex + ew]\n",
    "    \n",
    "    final_image = cv2.resize(face_roi, (224, 224))\n",
    "    final_image = np.expand_dims(final_image, axis = 0)\n",
    "    \n",
    "    Predictions = new_model.predict(final_image)\n",
    "    \n",
    "    font2 = cv2.FONT_ITALIC\n",
    "    font_scale = 1.5\n",
    "    \n",
    "    if(np.argmax(Predictions) == 0):\n",
    "        emotion = 'Angry'\n",
    "        display_text(emotion)\n",
    "        \n",
    "    elif(np.argmax(Predictions) == 1):\n",
    "        emotion = 'Disgust'\n",
    "        display_text(emotion)\n",
    "        \n",
    "    elif(np.argmax(Predictions) == 2):\n",
    "        emotion = 'Fear'\n",
    "        display_text(emotion)\n",
    "        \n",
    "    elif(np.argmax(Predictions) == 3):\n",
    "        emotion = 'Happy'\n",
    "        display_text(emotion)\n",
    "        \n",
    "    elif(np.argmax(Predictions) == 4):\n",
    "        emotion = 'Neutral'\n",
    "        display_text(emotion)\n",
    "        \n",
    "    elif(np.argmax(Predictions) == 5):\n",
    "        emotion = 'Sad'\n",
    "        display_text(emotion)\n",
    "        \n",
    "    elif(np.argmax(Predictions) == 6):\n",
    "        emotion = 'Surprised'\n",
    "        display_text(emotion)\n",
    "        \n",
    "    cv2.imshow('Face Emotion Recognition', frame)\n",
    "    \n",
    "    if cv2.waitKey(2) & 0xFF == ord('q'):\n",
    "        break\n",
    "        \n",
    "cap.release()\n",
    "cv2.destroyAllWindows()"
   ]
  },
  {
   "cell_type": "code",
   "execution_count": 18,
   "id": "4bb8bc08",
   "metadata": {},
   "outputs": [
    {
     "name": "stdout",
     "output_type": "stream",
     "text": [
      "Sad\n"
     ]
    }
   ],
   "source": [
    "print(emotion)"
   ]
  },
  {
   "cell_type": "markdown",
   "id": "4faa02d0",
   "metadata": {},
   "source": [
    "# Converting from text to speech"
   ]
  },
  {
   "cell_type": "code",
   "execution_count": 19,
   "id": "367b0d77",
   "metadata": {},
   "outputs": [],
   "source": [
    "text_speech = pyttsx3.init()\n",
    "text = \"YOUR DETECTED MOOD IS.....\" + emotion\n",
    "\n",
    "# helps us to convert the written text to speech\n",
    "text_speech.say(text)\n",
    "# to exit from the program\n",
    "text_speech.runAndWait()"
   ]
  },
  {
   "cell_type": "markdown",
   "id": "8598b7f2",
   "metadata": {},
   "source": [
    "# Picking the song from the dataset based on the emotion"
   ]
  },
  {
   "cell_type": "code",
   "execution_count": 20,
   "id": "ca3a09a6",
   "metadata": {},
   "outputs": [
    {
     "data": {
      "text/html": [
       "<div>\n",
       "<style scoped>\n",
       "    .dataframe tbody tr th:only-of-type {\n",
       "        vertical-align: middle;\n",
       "    }\n",
       "\n",
       "    .dataframe tbody tr th {\n",
       "        vertical-align: top;\n",
       "    }\n",
       "\n",
       "    .dataframe thead th {\n",
       "        text-align: right;\n",
       "    }\n",
       "</style>\n",
       "<table border=\"1\" class=\"dataframe\">\n",
       "  <thead>\n",
       "    <tr style=\"text-align: right;\">\n",
       "      <th></th>\n",
       "      <th>Sl No</th>\n",
       "      <th>Name</th>\n",
       "      <th>Artist</th>\n",
       "    </tr>\n",
       "  </thead>\n",
       "  <tbody>\n",
       "    <tr>\n",
       "      <th>0</th>\n",
       "      <td>1</td>\n",
       "      <td>I Took A Pill in Ibiza</td>\n",
       "      <td>Mike Posner</td>\n",
       "    </tr>\n",
       "    <tr>\n",
       "      <th>1</th>\n",
       "      <td>2</td>\n",
       "      <td>Human</td>\n",
       "      <td>Rag'n'Bone Man</td>\n",
       "    </tr>\n",
       "    <tr>\n",
       "      <th>2</th>\n",
       "      <td>3</td>\n",
       "      <td>Move On</td>\n",
       "      <td>Mike Posner</td>\n",
       "    </tr>\n",
       "    <tr>\n",
       "      <th>3</th>\n",
       "      <td>4</td>\n",
       "      <td>Night Changes</td>\n",
       "      <td>One Direction</td>\n",
       "    </tr>\n",
       "    <tr>\n",
       "      <th>4</th>\n",
       "      <td>5</td>\n",
       "      <td>Underwater</td>\n",
       "      <td>Mika</td>\n",
       "    </tr>\n",
       "  </tbody>\n",
       "</table>\n",
       "</div>"
      ],
      "text/plain": [
       "   Sl No                    Name          Artist\n",
       "0      1  I Took A Pill in Ibiza     Mike Posner\n",
       "1      2                   Human  Rag'n'Bone Man\n",
       "2      3                 Move On     Mike Posner\n",
       "3      4           Night Changes   One Direction\n",
       "4      5              Underwater            Mika"
      ]
     },
     "execution_count": 20,
     "metadata": {},
     "output_type": "execute_result"
    }
   ],
   "source": [
    "df = pd.read_excel('mood-based-songs.xlsx', sheet_name = emotion)\n",
    "df.head()"
   ]
  },
  {
   "cell_type": "markdown",
   "id": "081cb1b3",
   "metadata": {},
   "source": [
    "### Choosing a row at random from this dataset"
   ]
  },
  {
   "cell_type": "code",
   "execution_count": 21,
   "id": "8ae9583f",
   "metadata": {},
   "outputs": [
    {
     "data": {
      "text/html": [
       "<div>\n",
       "<style scoped>\n",
       "    .dataframe tbody tr th:only-of-type {\n",
       "        vertical-align: middle;\n",
       "    }\n",
       "\n",
       "    .dataframe tbody tr th {\n",
       "        vertical-align: top;\n",
       "    }\n",
       "\n",
       "    .dataframe thead th {\n",
       "        text-align: right;\n",
       "    }\n",
       "</style>\n",
       "<table border=\"1\" class=\"dataframe\">\n",
       "  <thead>\n",
       "    <tr style=\"text-align: right;\">\n",
       "      <th></th>\n",
       "      <th>Sl No</th>\n",
       "      <th>Name</th>\n",
       "      <th>Artist</th>\n",
       "    </tr>\n",
       "  </thead>\n",
       "  <tbody>\n",
       "    <tr>\n",
       "      <th>2</th>\n",
       "      <td>3</td>\n",
       "      <td>Move On</td>\n",
       "      <td>Mike Posner</td>\n",
       "    </tr>\n",
       "  </tbody>\n",
       "</table>\n",
       "</div>"
      ],
      "text/plain": [
       "   Sl No     Name       Artist\n",
       "2      3  Move On  Mike Posner"
      ]
     },
     "execution_count": 21,
     "metadata": {},
     "output_type": "execute_result"
    }
   ],
   "source": [
    "random_row = df.sample(n=1)\n",
    "random_row"
   ]
  },
  {
   "cell_type": "markdown",
   "id": "1e0f109c",
   "metadata": {},
   "source": [
    "### Converting to list"
   ]
  },
  {
   "cell_type": "code",
   "execution_count": 22,
   "id": "1068fc79",
   "metadata": {},
   "outputs": [
    {
     "data": {
      "text/plain": [
       "[[3, 'Move On', 'Mike Posner']]"
      ]
     },
     "execution_count": 22,
     "metadata": {},
     "output_type": "execute_result"
    }
   ],
   "source": [
    "random_row_list = random_row.values.tolist()\n",
    "random_row_list"
   ]
  },
  {
   "cell_type": "code",
   "execution_count": 23,
   "id": "7c167b4e",
   "metadata": {},
   "outputs": [
    {
     "data": {
      "text/plain": [
       "'Move On Mike Posner'"
      ]
     },
     "execution_count": 23,
     "metadata": {},
     "output_type": "execute_result"
    }
   ],
   "source": [
    "# Concatenating the song name and artist texts from the dataset and storing it in 'song_name'\n",
    "song_name = random_row_list[0][1] + ' ' + random_row_list[0][2]\n",
    "song_name"
   ]
  },
  {
   "cell_type": "code",
   "execution_count": null,
   "id": "506273e2",
   "metadata": {},
   "outputs": [],
   "source": [
    "os.system('spotify')\n",
    "time.sleep(5)\n",
    "\n",
    "# activates spotify search bar\n",
    "pyautogui.hotkey('ctrl', 'l')\n",
    "time.sleep(3)\n",
    "# writing in search bar\n",
    "pyautogui.write(song_name, interval = 0.1)\n",
    "time.sleep(3)\n",
    "\n",
    "for key in ['enter', 'pagedown', 'tab', 'enter', 'enter']:\n",
    "    time.sleep(2)\n",
    "    pyautogui.press(key)"
   ]
  },
  {
   "cell_type": "code",
   "execution_count": null,
   "id": "be48561f",
   "metadata": {},
   "outputs": [],
   "source": []
  }
 ],
 "metadata": {
  "kernelspec": {
   "display_name": "Python 3 (ipykernel)",
   "language": "python",
   "name": "python3"
  },
  "language_info": {
   "codemirror_mode": {
    "name": "ipython",
    "version": 3
   },
   "file_extension": ".py",
   "mimetype": "text/x-python",
   "name": "python",
   "nbconvert_exporter": "python",
   "pygments_lexer": "ipython3",
   "version": "3.9.13"
  }
 },
 "nbformat": 4,
 "nbformat_minor": 5
}
